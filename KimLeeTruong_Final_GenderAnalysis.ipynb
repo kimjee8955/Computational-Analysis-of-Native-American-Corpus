{
  "nbformat": 4,
  "nbformat_minor": 0,
  "metadata": {
    "kernelspec": {
      "display_name": "Python 3",
      "language": "python",
      "name": "python3"
    },
    "language_info": {
      "codemirror_mode": {
        "name": "ipython",
        "version": 3
      },
      "file_extension": ".py",
      "mimetype": "text/x-python",
      "name": "python",
      "nbconvert_exporter": "python",
      "pygments_lexer": "ipython3",
      "version": "3.7.4"
    },
    "colab": {
      "name": "KimLeeTruong-Wk10-Analysis.ipynb",
      "provenance": []
    }
  },
  "cells": [
    {
      "cell_type": "markdown",
      "metadata": {
        "id": "bVhIz81-K9PJ",
        "colab_type": "text"
      },
      "source": [
        "## Using computational analysis, how can we examine the concept of gender defined among Native American tribes (specifically the Delaware) and how did men’s and women’s roles differ?\n",
        "### Code Analysis for Written Wordpress Article\n",
        "### Eustina Kim, Michelle Lee, Vicki Truong"
      ]
    },
    {
      "cell_type": "code",
      "metadata": {
        "id": "8Lmi6BY3K9PK",
        "colab_type": "code",
        "outputId": "6af3adbe-7e8f-44a1-91a8-5a03fc7cd153",
        "colab": {}
      },
      "source": [
        "#Set random seed for reproduction of code. \n",
        "import numpy as np\n",
        "np.random.seed(42)\n",
        "\n",
        "#Change working directory. \n",
        "import os\n",
        "os.chdir(\"/Users/vickijtruong/Documents/DH199/NV-TopicModeling\") \n",
        "all_files = os.listdir(\"/Users/vickijtruong/Documents/DH199/NV-TopicModeling\")\n",
        "all_files.sort()\n",
        "#print(all_files)\n",
        "len(all_files)"
      ],
      "execution_count": 0,
      "outputs": [
        {
          "output_type": "execute_result",
          "data": {
            "text/plain": [
              "669"
            ]
          },
          "metadata": {
            "tags": []
          },
          "execution_count": 1
        }
      ]
    },
    {
      "cell_type": "code",
      "metadata": {
        "id": "ECNIn6o9K9PO",
        "colab_type": "code",
        "colab": {}
      },
      "source": [
        "import nltk\n",
        "from nltk.corpus import stopwords \n",
        "#Import stop words. \n",
        "stop_words = stopwords.words('english')\n",
        "\n",
        "#If you would like to add or remove stopwords, uncomment the code: \n",
        "#more_stop = ['null', 'pp', 'https', 'collections', 'vol']\n",
        "#stop_words = stop_words + more_stop\n",
        "\n",
        "#not_stopwords = ['he','him','his','himself','she',\"she's\", 'her', 'hers', 'herself'] \n",
        "#stop_words = set([word for word in stop_words if word not in not_stopwords])\n",
        "#print(stop_words)"
      ],
      "execution_count": 0,
      "outputs": []
    },
    {
      "cell_type": "code",
      "metadata": {
        "id": "fd-Hr3eEK9PQ",
        "colab_type": "code",
        "colab": {}
      },
      "source": [
        "from nltk import tokenize\n",
        "from nltk.tokenize import word_tokenize \n",
        "import string\n",
        "\n",
        "#Read each file into the working directory. \n",
        "docs = []\n",
        "for file in all_files:\n",
        "    with open(file,'r', encoding ='utf8', errors='ignore') as f:\n",
        "        text = f.read()        \n",
        "        tokens = tokenize.word_tokenize(text)\n",
        "        tokens_lower = [w.lower() for w in tokens]\n",
        "        filtered = [w for w in tokens_lower if not w in stop_words and w.isalpha()] \n",
        "        table = str.maketrans('', '', string.punctuation)\n",
        "        stripped = [w.translate(table) for w in filtered]\n",
        "        stripped = list(filter(None, stripped))\n",
        "        docs.append(stripped)"
      ],
      "execution_count": 0,
      "outputs": []
    },
    {
      "cell_type": "markdown",
      "metadata": {
        "id": "w6kTuQKlK9PS",
        "colab_type": "text"
      },
      "source": [
        "## Concordance"
      ]
    },
    {
      "cell_type": "code",
      "metadata": {
        "id": "PJo2VdX8K9PS",
        "colab_type": "code",
        "colab": {}
      },
      "source": [
        "flattened_docs = [y for x in docs for y in x]\n",
        "nltk_text = nltk.Text(flattened_docs)"
      ],
      "execution_count": 0,
      "outputs": []
    },
    {
      "cell_type": "code",
      "metadata": {
        "id": "3ChpC004K9PU",
        "colab_type": "code",
        "outputId": "49683198-c84c-48d0-c312-d71d8c9c52ef",
        "colab": {}
      },
      "source": [
        "nltk_text.concordance('man', lines = 15)"
      ],
      "execution_count": 0,
      "outputs": [
        {
          "output_type": "stream",
          "text": [
            "Displaying 15 of 2150 matches:\n",
            "ations considering bad situation want man leader gave us king told us transact \n",
            "us return thanks putting us guard bad man mentioned though known us may assured\n",
            " may assured shall pay regard says us man come sufficient authority brethren de\n",
            "ied hatchet next summer treaty killed man upon frontiers government next year k\n",
            "received contrary judgment every wise man amongst us authority consequently exe\n",
            "us return thanks putting us guard bad man mentioned though known us may assured\n",
            " may assured shall pay regard says us man come sufficient authority brethren de\n",
            "ans say informed way hither principal man delaware gone lower shawanese town wh\n",
            "ccount five days ago one conner white man lives snake town upon muskingum retur\n",
            "upon white people returned killed one man produced belts wampum delivered sir w\n",
            "ied hatchet next summer treaty killed man upon frontiers government next year k\n",
            "parture pere potier jesuit missionary man respectable ter venerable figure came\n",
            "ngress forgotten duty god failed duty man ask pardon god hope goodness legitima\n",
            "ful subjects promise swear become god man faith sign hand certify ordinary mark\n",
            " labour colonel clark since told knew man little garrison would duty would shri\n"
          ],
          "name": "stdout"
        }
      ]
    },
    {
      "cell_type": "code",
      "metadata": {
        "id": "zkWzTbFVK9PW",
        "colab_type": "code",
        "outputId": "142b80e3-97df-4caf-b08e-2419bc3396a7",
        "colab": {}
      },
      "source": [
        "nltk_text.concordance('men', lines = 15)"
      ],
      "execution_count": 0,
      "outputs": [
        {
          "output_type": "stream",
          "text": [
            "Displaying 15 of 3759 matches:\n",
            "find plenty provisions mean set young men warrior sharpen hatchets order join u\n",
            "d us assure brotherly love invite old men wives children take sanctuary protect\n",
            "plentifully fed whilst warriors young men join expose together common cause str\n",
            "sustain us bless labors become things men order win jesus christ hope kindly as\n",
            " may require consult cheiftains young men general men sense experience cheiftai\n",
            " consult cheiftains young men general men sense experience cheiftains warriors \n",
            "eem advice given chiefs consult young men occasion may require directions parts\n",
            "ard shall entered presence many great men give sanction transaction cause known\n",
            "serious consideration glad many great men assembled bear witness transaction re\n",
            "d war trade plenty goods cheap honest men deal us proper persons manage hope pr\n",
            "far southward may times disturbed bad men taking advantage distance us heads co\n",
            "e stories may propagated ignorant bad men communicate useful intelligence time \n",
            "nferred doubts future governors chief men inhabitants new jersey ever careful d\n",
            " assembled together one people strike men wear hats meaning white people talks \n",
            "bring us governors speech observe old men affair consequence thank taking pity \n"
          ],
          "name": "stdout"
        }
      ]
    },
    {
      "cell_type": "code",
      "metadata": {
        "id": "7oiR0yT2K9PY",
        "colab_type": "code",
        "outputId": "d9682a7e-dc04-485b-8a24-72a0c2bd0853",
        "colab": {}
      },
      "source": [
        "nltk_text.concordance('woman', lines = 15)"
      ],
      "execution_count": 0,
      "outputs": [
        {
          "output_type": "stream",
          "text": [
            "Displaying 15 of 293 matches:\n",
            "lled reported soon first shots fired woman house told colonel clark arrived men\n",
            "resolution form made vow never spare woman child indians employed observed pers\n",
            "iver seven miles pitched camp indian woman along keep camp first day anxious pu\n",
            "er place several boys even one young woman prisoners made escape returned india\n",
            "eatly mistaken miss symmes make fine woman amiable disposition highly cultivate\n",
            "red meeting took place fellow eloped woman came last shawanee towns said lately\n",
            "entioned september fought respecting woman found drowned muskingum said tribe g\n",
            "est days colonel strong commands old woman fat would scarcely know either rolli\n",
            "urred second day made captive indian woman come warriors bad nothing us seen ot\n",
            "d upon americans free us hands since woman friend isaac besides hostile seized \n",
            "ly given nothing likewise also white woman bought white apron gave back nothing\n",
            "lled reported soon first shots fired woman house told colonel clark arrived men\n",
            "resolution form made vow never spare woman child indians employed observed pers\n",
            "ng wednesday abraham went visit sick woman ann charity mother sick asked visit \n",
            "ning service abraham went visit sick woman wyandot town found longer alive came\n"
          ],
          "name": "stdout"
        }
      ]
    },
    {
      "cell_type": "code",
      "metadata": {
        "id": "-FQrpmP3K9Pb",
        "colab_type": "code",
        "outputId": "c752cf31-448c-4660-95a7-868702a67ca3",
        "colab": {}
      },
      "source": [
        "nltk_text.concordance('women', lines = 15)"
      ],
      "execution_count": 0,
      "outputs": [
        {
          "output_type": "stream",
          "text": [
            "Displaying 15 of 608 matches:\n",
            "vited come place protection together women children delaware speaker whereupon \n",
            "anches wampum thanking us taken pity women children wherefore join altogether s\n",
            "seeing cause pleasure brother esteem women children restored life upon arrival \n",
            "rds sincere rejoice equally new life women children acquired arrival sincerely \n",
            "wk desire therefore sit haughty pity women children therefore take tomahawk han\n",
            "ious trifled boys employed happiness women children everything dear us endeavor\n",
            "ing ib cause pleasure brother esteem women children restored life npon arrival \n",
            "rds sincere rejoice equally new life women children acquired arrival sincerely \n",
            "wk desire therefore sit haughty pity women children therefore take tomahawk han\n",
            "al days poor prisoners young old men women offered lock debarred use court migh\n",
            "iefs village chiefs warriors old men women children strings wampum open eyes ma\n",
            "true always told us truth reason men women children return thanks belt rows wam\n",
            "oke father road traced us clear good women children may follow like think permi\n",
            "ng ears hope set us right compassion women children six strings wampum mahinamb\n",
            "ef recommendation sparing blood aged women children showed firm attachment maje\n"
          ],
          "name": "stdout"
        }
      ]
    },
    {
      "cell_type": "markdown",
      "metadata": {
        "id": "iQ_fZZkpIfn1",
        "colab_type": "text"
      },
      "source": [
        "## Explanation/Analysis of Concordance Results\n",
        "We used concordance to gain a preliminary look into how the terms \"man\", \"men\", \"woman\", and \"women\" are used in context in the corpus. \"man\" and \"men\" have a collective 5905 matches, while \"woman\" and \"women\" have a collective 901 matches. These basic male-related terms are represented almost 7 times as much these basic female-centered terms. \n",
        "\n",
        "Overall, the female-centered terms were most often used next to domestic terms such as \"children\" and \"house\", but they also appeared next to terms such as \"pity\". The male-centered terms occurred near a more diverse group of terms, including \"leader\", \"warrior\", \"great\", and \"killed\". As a whole, these terms relate to leadership positions, especially relating to war. This is perhaps indicative of women taking on more domestic roles versus men taking on conflict and active roles. \n",
        "\n",
        "Something to note is that we only showed the first 15 lines of the concordance output as to not clutter the document, and there isn't a ranking system for concordance output. Instead, we will turn to collocation analysis in order to better understand the most relevant n-grams for gender-related terms beyond the basic ones explored in concordance analysis. "
      ]
    },
    {
      "cell_type": "markdown",
      "metadata": {
        "id": "3k0fHmxXK9Pv",
        "colab_type": "text"
      },
      "source": [
        "## Collocations"
      ]
    },
    {
      "cell_type": "code",
      "metadata": {
        "id": "wWjmylMNK9Pv",
        "colab_type": "code",
        "colab": {}
      },
      "source": [
        "from nltk.collocations import BigramCollocationFinder \n",
        "from nltk.metrics import BigramAssocMeasures "
      ],
      "execution_count": 0,
      "outputs": []
    },
    {
      "cell_type": "code",
      "metadata": {
        "id": "0ZjKZdJRK9Py",
        "colab_type": "code",
        "colab": {}
      },
      "source": [
        "from nltk.collocations import TrigramCollocationFinder \n",
        "from nltk.metrics import TrigramAssocMeasures "
      ],
      "execution_count": 0,
      "outputs": []
    },
    {
      "cell_type": "code",
      "metadata": {
        "id": "JQs0bU0UK9Pz",
        "colab_type": "code",
        "colab": {}
      },
      "source": [
        "import nltk\n",
        "from nltk.collocations import *"
      ],
      "execution_count": 0,
      "outputs": []
    },
    {
      "cell_type": "markdown",
      "metadata": {
        "id": "QR73B0eCK9P1",
        "colab_type": "text"
      },
      "source": [
        "### Bigrams and Trigrams for 'man'"
      ]
    },
    {
      "cell_type": "code",
      "metadata": {
        "id": "xZZgBk5yK9P1",
        "colab_type": "code",
        "outputId": "1ead804c-067f-4136-eae0-77635ce9db32",
        "colab": {}
      },
      "source": [
        "finder = BigramCollocationFinder.from_words(flattened_docs)\n",
        "bigram_measures = nltk.collocations.BigramAssocMeasures() \n",
        "# only bigrams that appear 3+ times\n",
        "finder.apply_freq_filter(3)\n",
        "pronoun_filter = lambda *w: 'man' not in w\n",
        "# only bigrams that contain 'man'\n",
        "finder.apply_ngram_filter(pronoun_filter)\n",
        "# return the 15 n-grams with the highest likelihood ratio\n",
        "finder.nbest(bigram_measures.likelihood_ratio,15)"
      ],
      "execution_count": 0,
      "outputs": [
        {
          "output_type": "execute_result",
          "data": {
            "text/plain": [
              "[('white', 'man'),\n",
              " ('young', 'man'),\n",
              " ('beloved', 'man'),\n",
              " ('every', 'man'),\n",
              " ('old', 'man'),\n",
              " ('one', 'man'),\n",
              " ('man', 'name'),\n",
              " ('single', 'man'),\n",
              " ('man', 'killed'),\n",
              " ('good', 'man'),\n",
              " ('honest', 'man'),\n",
              " ('man', 'resident'),\n",
              " ('hired', 'man'),\n",
              " ('man', 'named'),\n",
              " ('brave', 'man')]"
            ]
          },
          "metadata": {
            "tags": []
          },
          "execution_count": 21
        }
      ]
    },
    {
      "cell_type": "code",
      "metadata": {
        "scrolled": true,
        "id": "Jd9Y8QM1K9P3",
        "colab_type": "code",
        "outputId": "ecfaf3bc-b480-4632-dc87-d858ce622eea",
        "colab": {}
      },
      "source": [
        "finder = TrigramCollocationFinder.from_words(flattened_docs)\n",
        "trigram_measures = nltk.collocations.TrigramAssocMeasures() \n",
        "\n",
        "# only trigrams that appear 3+ times\n",
        "finder.apply_freq_filter(3)\n",
        "pronoun_filter = lambda *w: 'man' not in (w)\n",
        "# only trigrams that contain 'man'\n",
        "finder.apply_ngram_filter(pronoun_filter)\n",
        "# return the 15 n-grams with the highest likelihood ratio\n",
        "finder.nbest(trigram_measures.likelihood_ratio,15)"
      ],
      "execution_count": 0,
      "outputs": [
        {
          "output_type": "execute_result",
          "data": {
            "text/plain": [
              "[('united', 'states', 'man'),\n",
              " ('man', 'creek', 'nation'),\n",
              " ('white', 'man', 'resident'),\n",
              " ('white', 'man', 'killed'),\n",
              " ('white', 'man', 'name'),\n",
              " ('white', 'man', 'came'),\n",
              " ('white', 'man', 'agreed'),\n",
              " ('deliver', 'white', 'man'),\n",
              " ('white', 'man', 'named'),\n",
              " ('every', 'white', 'man'),\n",
              " ('done', 'white', 'man'),\n",
              " ('white', 'man', 'would'),\n",
              " ('white', 'man', 'present'),\n",
              " ('white', 'man', 'arrived'),\n",
              " ('blood', 'white', 'man')]"
            ]
          },
          "metadata": {
            "tags": []
          },
          "execution_count": 22
        }
      ]
    },
    {
      "cell_type": "markdown",
      "metadata": {
        "id": "SBbEORndK9P4",
        "colab_type": "text"
      },
      "source": [
        "### Bigrams and Trigrams for 'men'"
      ]
    },
    {
      "cell_type": "code",
      "metadata": {
        "scrolled": true,
        "id": "Q9DnH9I7K9P4",
        "colab_type": "code",
        "outputId": "6d64f245-fe26-4665-a077-514490e5970b",
        "colab": {}
      },
      "source": [
        "finder = BigramCollocationFinder.from_words(flattened_docs)\n",
        "bigram_measures = nltk.collocations.BigramAssocMeasures() \n",
        "\n",
        "# only bigrams that appear 3+ times\n",
        "finder.apply_freq_filter(3)\n",
        "pronoun_filter = lambda *w: 'men' not in w\n",
        "# only bigrams that contain 'men'\n",
        "finder.apply_ngram_filter(pronoun_filter)\n",
        "# return the 15 n-grams with the highest likelihood ratio\n",
        "finder.nbest(bigram_measures.likelihood_ratio,15)"
      ],
      "execution_count": 0,
      "outputs": [
        {
          "output_type": "execute_result",
          "data": {
            "text/plain": [
              "[('young', 'men'),\n",
              " ('white', 'men'),\n",
              " ('beloved', 'men'),\n",
              " ('bad', 'men'),\n",
              " ('men', 'women'),\n",
              " ('two', 'men'),\n",
              " ('hundred', 'men'),\n",
              " ('old', 'men'),\n",
              " ('wise', 'men'),\n",
              " ('number', 'men'),\n",
              " ('men', 'killed'),\n",
              " ('principal', 'men'),\n",
              " ('three', 'men'),\n",
              " ('thirty', 'men'),\n",
              " ('officers', 'men')]"
            ]
          },
          "metadata": {
            "tags": []
          },
          "execution_count": 23
        }
      ]
    },
    {
      "cell_type": "code",
      "metadata": {
        "id": "hB9s5p0cK9P6",
        "colab_type": "code",
        "outputId": "8849f5d4-90d0-4e2e-f4cd-cb21a9650784",
        "colab": {}
      },
      "source": [
        "finder = TrigramCollocationFinder.from_words(flattened_docs)\n",
        "trigram_measures = nltk.collocations.TrigramAssocMeasures() \n",
        "\n",
        "# only trigrams that appear 3+ times\n",
        "finder.apply_freq_filter(3)\n",
        "pronoun_filter = lambda *w: 'men' not in (w)\n",
        "# only trigrams that contain 'men'\n",
        "finder.apply_ngram_filter(pronoun_filter)\n",
        "# return the 15 n-grams with the highest likelihood ratio\n",
        "finder.nbest(trigram_measures.likelihood_ratio,15)"
      ],
      "execution_count": 0,
      "outputs": [
        {
          "output_type": "execute_result",
          "data": {
            "text/plain": [
              "[('men', 'united', 'states'),\n",
              " ('white', 'people', 'men'),\n",
              " ('men', 'creek', 'nation'),\n",
              " ('one', 'hundred', 'men'),\n",
              " ('men', 'fort', 'pitt'),\n",
              " ('one', 'thousand', 'men'),\n",
              " ('men', 'one', 'hundred'),\n",
              " ('men', 'women', 'children'),\n",
              " ('men', 'cherokee', 'nation'),\n",
              " ('young', 'men', 'women'),\n",
              " ('foolish', 'young', 'men'),\n",
              " ('two', 'young', 'men'),\n",
              " ('restrain', 'young', 'men'),\n",
              " ('number', 'young', 'men'),\n",
              " ('young', 'men', 'warriors')]"
            ]
          },
          "metadata": {
            "tags": []
          },
          "execution_count": 24
        }
      ]
    },
    {
      "cell_type": "markdown",
      "metadata": {
        "id": "hhUyqYgMK9P9",
        "colab_type": "text"
      },
      "source": [
        "Bigrams for \"man\" and \"men\" reveal similar results.  \n",
        "Ex: [young, man], [young, men]; [white, man], [white, men]; [beloved, man], [beloved, men]"
      ]
    },
    {
      "cell_type": "markdown",
      "metadata": {
        "id": "_kpLluOCK9P9",
        "colab_type": "text"
      },
      "source": [
        "### Bigrams and Trigrams for 'woman'"
      ]
    },
    {
      "cell_type": "code",
      "metadata": {
        "id": "SzjmpP_lK9P-",
        "colab_type": "code",
        "outputId": "b14f83d8-24ff-4484-8496-7c6f05445669",
        "colab": {}
      },
      "source": [
        "finder = BigramCollocationFinder.from_words(flattened_docs)\n",
        "bigram_measures = nltk.collocations.BigramAssocMeasures() \n",
        "# only bigrams that appear 3+ times\n",
        "finder.apply_freq_filter(3)\n",
        "pronoun_filter = lambda *w: 'woman' not in w\n",
        "# only bigrams that contain 'woman'\n",
        "finder.apply_ngram_filter(pronoun_filter)\n",
        "# return the 15 n-grams with the highest likelihood ratio\n",
        "finder.nbest(bigram_measures.likelihood_ratio,15)"
      ],
      "execution_count": 0,
      "outputs": [
        {
          "output_type": "execute_result",
          "data": {
            "text/plain": [
              "[('woman', 'child'),\n",
              " ('single', 'woman'),\n",
              " ('man', 'woman'),\n",
              " ('canaanite', 'woman'),\n",
              " ('indian', 'woman'),\n",
              " ('old', 'woman'),\n",
              " ('woman', 'prisoner'),\n",
              " ('white', 'woman'),\n",
              " ('negro', 'woman'),\n",
              " ('one', 'woman'),\n",
              " ('wyandot', 'woman'),\n",
              " ('pattawatamie', 'woman'),\n",
              " ('poor', 'woman'),\n",
              " ('unbaptized', 'woman'),\n",
              " ('fine', 'woman')]"
            ]
          },
          "metadata": {
            "tags": []
          },
          "execution_count": 25
        }
      ]
    },
    {
      "cell_type": "code",
      "metadata": {
        "scrolled": false,
        "id": "JfXY9YJjK9P_",
        "colab_type": "code",
        "outputId": "ec97b882-93f9-441c-9d8b-0c264a8046f3",
        "colab": {}
      },
      "source": [
        "finder = TrigramCollocationFinder.from_words(flattened_docs)\n",
        "trigram_measures = nltk.collocations.TrigramAssocMeasures() \n",
        "\n",
        "# only trigrams that appear 3+ times\n",
        "finder.apply_freq_filter(3)\n",
        "pronoun_filter = lambda *w: 'woman' not in (w)\n",
        "# only trigrams that contain 'woman'\n",
        "finder.apply_ngram_filter(pronoun_filter)\n",
        "# return the 15 n-grams with the highest likelihood ratio\n",
        "finder.nbest(trigram_measures.likelihood_ratio,15)"
      ],
      "execution_count": 0,
      "outputs": [
        {
          "output_type": "execute_result",
          "data": {
            "text/plain": [
              "[('woman', 'red', 'river'),\n",
              " ('woman', 'six', 'hundred'),\n",
              " ('woman', 'one', 'section'),\n",
              " ('every', 'man', 'woman'),\n",
              " ('man', 'woman', 'child'),\n",
              " ('woman', 'two', 'children'),\n",
              " ('gospel', 'canaanite', 'woman'),\n",
              " ('menawcumegoqua', 'chippewa', 'woman'),\n",
              " ('white', 'woman', 'creek'),\n",
              " ('men', 'one', 'woman'),\n",
              " ('thirty', 'woman', 'twenty'),\n",
              " ('chippewa', 'woman', 'six'),\n",
              " ('man', 'thirty', 'woman'),\n",
              " ('woman', 'twenty', 'old')]"
            ]
          },
          "metadata": {
            "tags": []
          },
          "execution_count": 26
        }
      ]
    },
    {
      "cell_type": "markdown",
      "metadata": {
        "id": "wV8XRSitK9QB",
        "colab_type": "text"
      },
      "source": [
        "### Bigrams and Trigrams for 'women'"
      ]
    },
    {
      "cell_type": "code",
      "metadata": {
        "scrolled": true,
        "id": "-dT4mEByK9QC",
        "colab_type": "code",
        "outputId": "45d6ffa0-1762-4199-bf9c-bd62f4d01e66",
        "colab": {}
      },
      "source": [
        "finder = BigramCollocationFinder.from_words(flattened_docs)\n",
        "bigram_measures = nltk.collocations.BigramAssocMeasures() \n",
        "# only bigrams that appear 3+ times\n",
        "finder.apply_freq_filter(3)\n",
        "pronoun_filter = lambda *w: 'women' not in w\n",
        "# only bigrams that contain 'women'\n",
        "finder.apply_ngram_filter(pronoun_filter)\n",
        "# return the 15 n-grams with the highest likelihood ratio\n",
        "finder.nbest(bigram_measures.likelihood_ratio,15)"
      ],
      "execution_count": 0,
      "outputs": [
        {
          "output_type": "execute_result",
          "data": {
            "text/plain": [
              "[('women', 'children'),\n",
              " ('men', 'women'),\n",
              " ('pity', 'women'),\n",
              " ('women', 'spin'),\n",
              " ('young', 'women'),\n",
              " ('women', 'child'),\n",
              " ('old', 'women'),\n",
              " ('elders', 'women'),\n",
              " ('helpless', 'women'),\n",
              " ('indian', 'women'),\n",
              " ('many', 'women'),\n",
              " ('defenceless', 'women'),\n",
              " ('single', 'women'),\n",
              " ('women', 'leather'),\n",
              " ('two', 'women')]"
            ]
          },
          "metadata": {
            "tags": []
          },
          "execution_count": 27
        }
      ]
    },
    {
      "cell_type": "code",
      "metadata": {
        "id": "Pqapil4SK9QD",
        "colab_type": "code",
        "outputId": "a35424f0-a235-42be-bcc9-d2a3e515d1f3",
        "colab": {}
      },
      "source": [
        "finder = TrigramCollocationFinder.from_words(flattened_docs)\n",
        "trigram_measures = nltk.collocations.TrigramAssocMeasures() \n",
        "\n",
        "# only trigrams that appear 3+ times\n",
        "finder.apply_freq_filter(3)\n",
        "pronoun_filter = lambda *w: 'women' not in (w)\n",
        "# only trigrams that contain 'women'\n",
        "finder.apply_ngram_filter(pronoun_filter)\n",
        "# return the 15 n-grams with the highest likelihood ratio\n",
        "finder.nbest(trigram_measures.likelihood_ratio,15)"
      ],
      "execution_count": 0,
      "outputs": [
        {
          "output_type": "execute_result",
          "data": {
            "text/plain": [
              "[('men', 'women', 'children'),\n",
              " ('pity', 'women', 'children'),\n",
              " ('women', 'children', 'prisoners'),\n",
              " ('young', 'women', 'children'),\n",
              " ('helpless', 'women', 'children'),\n",
              " ('care', 'women', 'children'),\n",
              " ('many', 'women', 'children'),\n",
              " ('happiness', 'women', 'children'),\n",
              " ('poor', 'women', 'children'),\n",
              " ('fires', 'women', 'children'),\n",
              " ('defenceless', 'women', 'children'),\n",
              " ('women', 'children', 'listen'),\n",
              " ('women', 'children', 'glad'),\n",
              " ('good', 'women', 'children'),\n",
              " ('women', 'children', 'enjoined')]"
            ]
          },
          "metadata": {
            "tags": []
          },
          "execution_count": 28
        }
      ]
    },
    {
      "cell_type": "markdown",
      "metadata": {
        "id": "nsGSjyAKK9QE",
        "colab_type": "text"
      },
      "source": [
        "Bigrams for \"woman\" and \"women\" reveal similar results.  \n",
        "Ex: [woman, child], [woman, child(ren)]; [man, woman], [men, women], [old, woman], [old, women].\n",
        "\n",
        "Several collocations for both \"woman\" and \"women\" reveal a general sentiment of being submissive, vulnerable people.\n",
        "Ex: \"poor\", \"pity\", \"helpless\", \"defenceless\", \"prisoner\"."
      ]
    },
    {
      "cell_type": "markdown",
      "metadata": {
        "id": "IDAhBZ4eK9QF",
        "colab_type": "text"
      },
      "source": [
        "### Bigrams and Trigrams for 'brave'"
      ]
    },
    {
      "cell_type": "code",
      "metadata": {
        "id": "NFasL-XxK9QF",
        "colab_type": "code",
        "outputId": "e9be3c6a-7e0b-42f7-a937-be9c0ec45981",
        "colab": {}
      },
      "source": [
        "finder = BigramCollocationFinder.from_words(flattened_docs)\n",
        "bigram_measures = nltk.collocations.BigramAssocMeasures() \n",
        "# only bigrams that appear 3+ times\n",
        "finder.apply_freq_filter(3)\n",
        "pronoun_filter = lambda *w: 'brave' not in w\n",
        "# only bigrams that contain 'brave'\n",
        "finder.apply_ngram_filter(pronoun_filter)\n",
        "# return the 15 n-grams with the highest likelihood ratio\n",
        "finder.nbest(bigram_measures.likelihood_ratio,15)"
      ],
      "execution_count": 0,
      "outputs": [
        {
          "output_type": "execute_result",
          "data": {
            "text/plain": [
              "[('brave', 'man'),\n",
              " ('brave', 'csesar'),\n",
              " ('brave', 'men'),\n",
              " ('brave', 'patient'),\n",
              " ('brave', 'undoubtedly'),\n",
              " ('fought', 'brave'),\n",
              " ('personally', 'brave'),\n",
              " ('quite', 'brave'),\n",
              " ('honorable', 'brave'),\n",
              " ('brave', 'warrior'),\n",
              " ('brave', 'enough'),\n",
              " ('brave', 'chief'),\n",
              " ('brave', 'officer'),\n",
              " ('letters', 'brave'),\n",
              " ('great', 'brave')]"
            ]
          },
          "metadata": {
            "tags": []
          },
          "execution_count": 29
        }
      ]
    },
    {
      "cell_type": "code",
      "metadata": {
        "scrolled": false,
        "id": "-Eil2dVxK9QI",
        "colab_type": "code",
        "outputId": "30ede262-a768-41e1-92e1-0dc2ae1caec6",
        "colab": {}
      },
      "source": [
        "finder = TrigramCollocationFinder.from_words(flattened_docs)\n",
        "trigram_measures = nltk.collocations.TrigramAssocMeasures() \n",
        "\n",
        "# only trigrams that appear 3+ times\n",
        "finder.apply_freq_filter(3)\n",
        "pronoun_filter = lambda *w: 'brave' not in (w)\n",
        "# only trigrams that contain 'brave'\n",
        "finder.apply_ngram_filter(pronoun_filter)\n",
        "# return the 15 n-grams with the highest likelihood ratio\n",
        "finder.nbest(trigram_measures.likelihood_ratio,15)"
      ],
      "execution_count": 0,
      "outputs": [
        {
          "output_type": "execute_result",
          "data": {
            "text/plain": [
              "[('brave', 'man', 'guilty'),\n",
              " ('honorable', 'brave', 'man'),\n",
              " ('brave', 'man', 'great'),\n",
              " ('brave', 'csesar', 'active'),\n",
              " ('brave', 'patient', 'hardships'),\n",
              " ('letters', 'brave', 'csesar'),\n",
              " ('personally', 'brave', 'patient'),\n",
              " ('fought', 'brave', 'undoubtedly'),\n",
              " ('brave', 'men', 'must'),\n",
              " ('engagement', 'quite', 'brave'),\n",
              " ('beheld', 'great', 'brave'),\n",
              " ('character', 'personally', 'brave'),\n",
              " ('quite', 'brave', 'enough'),\n",
              " ('brave', 'enough', 'lead'),\n",
              " ('men', 'fought', 'brave')]"
            ]
          },
          "metadata": {
            "tags": []
          },
          "execution_count": 30
        }
      ]
    },
    {
      "cell_type": "markdown",
      "metadata": {
        "id": "10GVo9VqNbo6",
        "colab_type": "text"
      },
      "source": [
        "The term \"brave\" was often used in conjunction with adjectives to describe men as noble people. Both bigrams and trigrams revealed similar results.\n",
        "Ex: \"patient\", \"honorable\", \"great\"."
      ]
    },
    {
      "cell_type": "markdown",
      "metadata": {
        "id": "7hKmtjVhK9QK",
        "colab_type": "text"
      },
      "source": [
        "### Bigrams and Trigrams for 'braves'"
      ]
    },
    {
      "cell_type": "code",
      "metadata": {
        "id": "1dp4pP_mK9QK",
        "colab_type": "code",
        "outputId": "209865e6-05c2-4489-8d2b-df945c0b88be",
        "colab": {}
      },
      "source": [
        "finder = BigramCollocationFinder.from_words(flattened_docs)\n",
        "bigram_measures = nltk.collocations.BigramAssocMeasures() \n",
        "pronoun_filter = lambda *w: 'braves' not in w\n",
        "# only bigrams that contain 'braves'\n",
        "finder.apply_ngram_filter(pronoun_filter)\n",
        "# return the 15 n-grams with the highest likelihood ratio\n",
        "finder.nbest(bigram_measures.likelihood_ratio,15)"
      ],
      "execution_count": 0,
      "outputs": [
        {
          "output_type": "execute_result",
          "data": {
            "text/plain": [
              "[('braves', 'mascoutins'),\n",
              " ('braves', 'considerate'),\n",
              " ('principal', 'braves'),\n",
              " ('chiefs', 'braves'),\n",
              " ('braves', 'nation'),\n",
              " ('one', 'braves')]"
            ]
          },
          "metadata": {
            "tags": []
          },
          "execution_count": 64
        }
      ]
    },
    {
      "cell_type": "code",
      "metadata": {
        "id": "1I84VzCWK9QL",
        "colab_type": "code",
        "outputId": "1a2fd847-f1d8-4fe8-b978-2a91cfef3a68",
        "colab": {}
      },
      "source": [
        "finder = TrigramCollocationFinder.from_words(flattened_docs)\n",
        "trigram_measures = nltk.collocations.TrigramAssocMeasures() \n",
        "pronoun_filter = lambda *w: 'braves' not in (w)\n",
        "# only trigrams that contain 'braves'\n",
        "finder.apply_ngram_filter(pronoun_filter)\n",
        "# return the 15 n-grams with the highest likelihood ratio\n",
        "finder.nbest(trigram_measures.likelihood_ratio,15)"
      ],
      "execution_count": 0,
      "outputs": [
        {
          "output_type": "execute_result",
          "data": {
            "text/plain": [
              "[('braves', 'considerate', 'men'),\n",
              " ('principal', 'braves', 'nation'),\n",
              " ('braves', 'mascoutins', 'saying'),\n",
              " ('chiefs', 'braves', 'considerate'),\n",
              " ('deputized', 'chiefs', 'braves'),\n",
              " ('one', 'braves', 'mascoutins'),\n",
              " ('braves', 'nation', 'attempted'),\n",
              " ('know', 'principal', 'braves'),\n",
              " ('presented', 'one', 'braves')]"
            ]
          },
          "metadata": {
            "tags": []
          },
          "execution_count": 65
        }
      ]
    },
    {
      "cell_type": "markdown",
      "metadata": {
        "id": "5YpRtMPMN_JL",
        "colab_type": "text"
      },
      "source": [
        "For \"braves\" specifically, no frequency filter was applied since applying the filter to only output results found with three or more occurances resulted in no significant collocations.\n",
        "\n",
        "As seen in the bigrams and trigrams above, not a lot of significant collocations were found for \"braves\" throughout the corpus. Of the phrases found, we determine that \"braves\" is often associated with words that signifiy notions of power and leadership like \"principal\", chief\", and \"one\". These roles are also most often occupied by men."
      ]
    },
    {
      "cell_type": "markdown",
      "metadata": {
        "id": "_HYtvQlIK9QN",
        "colab_type": "text"
      },
      "source": [
        "### Bigrams and Trigrams for 'warrior'"
      ]
    },
    {
      "cell_type": "code",
      "metadata": {
        "scrolled": true,
        "id": "Gsrr6lxBK9QO",
        "colab_type": "code",
        "outputId": "58d34002-cbec-45b4-e0f3-4c5715d73890",
        "colab": {}
      },
      "source": [
        "finder = BigramCollocationFinder.from_words(flattened_docs)\n",
        "bigram_measures = nltk.collocations.BigramAssocMeasures() \n",
        "# only bigrams that appear 3+ times\n",
        "finder.apply_freq_filter(3)\n",
        "pronoun_filter = lambda *w: 'warrior' not in w\n",
        "# only bigrams that contain 'warrior'\n",
        "finder.apply_ngram_filter(pronoun_filter)\n",
        "# return the 15 n-grams with the highest likelihood ratio\n",
        "finder.nbest(bigram_measures.likelihood_ratio,15)"
      ],
      "execution_count": 0,
      "outputs": [
        {
          "output_type": "execute_result",
          "data": {
            "text/plain": [
              "[('big', 'warrior'),\n",
              " ('head', 'warrior'),\n",
              " ('chief', 'warrior'),\n",
              " ('natchez', 'warrior'),\n",
              " ('black', 'warrior'),\n",
              " ('talking', 'warrior'),\n",
              " ('tuskegee', 'warrior'),\n",
              " ('little', 'warrior'),\n",
              " ('great', 'warrior'),\n",
              " ('warrior', 'son'),\n",
              " ('wolf', 'warrior'),\n",
              " ('warrior', 'x'),\n",
              " ('warrior', 'king'),\n",
              " ('young', 'warrior'),\n",
              " ('warrior', 'says')]"
            ]
          },
          "metadata": {
            "tags": []
          },
          "execution_count": 33
        }
      ]
    },
    {
      "cell_type": "code",
      "metadata": {
        "id": "T3Q7H5IZK9QP",
        "colab_type": "code",
        "outputId": "1c4f86bc-3206-4fd6-c5c4-d6351f79eea2",
        "colab": {}
      },
      "source": [
        "finder = TrigramCollocationFinder.from_words(flattened_docs)\n",
        "trigram_measures = nltk.collocations.TrigramAssocMeasures() \n",
        "\n",
        "# only trigrams that appear 3+ times\n",
        "finder.apply_freq_filter(3)\n",
        "pronoun_filter = lambda *w: 'warrior' not in (w)\n",
        "# only trigrams that contain 'warrior'\n",
        "finder.apply_ngram_filter(pronoun_filter)\n",
        "# return the 15 n-grams with the highest likelihood ratio\n",
        "finder.nbest(trigram_measures.likelihood_ratio,15)"
      ],
      "execution_count": 0,
      "outputs": [
        {
          "output_type": "execute_result",
          "data": {
            "text/plain": [
              "[('warrior', 'great', 'spirit'),\n",
              " ('warrior', 'x', 'mark'),\n",
              " ('big', 'warrior', 'cussetahs'),\n",
              " ('big', 'warrior', 'son'),\n",
              " ('big', 'warrior', 'party'),\n",
              " ('big', 'warrior', 'chiefs'),\n",
              " ('death', 'big', 'warrior'),\n",
              " ('big', 'warrior', 'death'),\n",
              " ('big', 'warrior', 'mark'),\n",
              " ('chief', 'big', 'warrior'),\n",
              " ('great', 'chief', 'warrior'),\n",
              " ('head', 'warrior', 'shawnee'),\n",
              " ('says', 'head', 'warrior'),\n",
              " ('great', 'natchez', 'warrior'),\n",
              " ('warrior', 'king', 'cussetahs')]"
            ]
          },
          "metadata": {
            "tags": []
          },
          "execution_count": 34
        }
      ]
    },
    {
      "cell_type": "markdown",
      "metadata": {
        "id": "ZRLTRTbaK9QR",
        "colab_type": "text"
      },
      "source": [
        "Bigram collocations relating to warrior often denote this role to be a very strong, representative figure of their community.\n",
        "Ex: \"big\", \"head\", \"chief\", \"great\"."
      ]
    },
    {
      "cell_type": "markdown",
      "metadata": {
        "id": "I8oQnPyQK9QS",
        "colab_type": "text"
      },
      "source": [
        "### Bigrams and Trigrams for 'squaw'"
      ]
    },
    {
      "cell_type": "code",
      "metadata": {
        "scrolled": true,
        "id": "42jKbhnyK9QT",
        "colab_type": "code",
        "outputId": "635cffd1-70df-46b7-c366-33c3d1995503",
        "colab": {}
      },
      "source": [
        "finder = BigramCollocationFinder.from_words(flattened_docs)\n",
        "bigram_measures = nltk.collocations.BigramAssocMeasures() \n",
        "# only bigrams that appear 3+ times\n",
        "finder.apply_freq_filter(3)\n",
        "pronoun_filter = lambda *w: 'squaw' not in w\n",
        "# only bigrams that contain 'squaw'\n",
        "finder.apply_ngram_filter(pronoun_filter)\n",
        "# return the 15 n-grams with the highest likelihood ratio\n",
        "finder.nbest(bigram_measures.likelihood_ratio,15)"
      ],
      "execution_count": 0,
      "outputs": [
        {
          "output_type": "execute_result",
          "data": {
            "text/plain": [
              "[('squaw', 'axes'),\n",
              " ('handsome', 'squaw'),\n",
              " ('squaw', 'served'),\n",
              " ('squaw', 'thus'),\n",
              " ('young', 'squaw'),\n",
              " ('old', 'squaw')]"
            ]
          },
          "metadata": {
            "tags": []
          },
          "execution_count": 35
        }
      ]
    },
    {
      "cell_type": "code",
      "metadata": {
        "scrolled": true,
        "id": "Do4Z6uzlK9QW",
        "colab_type": "code",
        "outputId": "ca3485c9-c55c-4c7d-fc4b-c1a5c7575f5c",
        "colab": {}
      },
      "source": [
        "finder = TrigramCollocationFinder.from_words(flattened_docs)\n",
        "trigram_measures = nltk.collocations.TrigramAssocMeasures() \n",
        "\n",
        "# only trigrams that appear 3+ times\n",
        "finder.apply_freq_filter(3)\n",
        "pronoun_filter = lambda *w: 'squaw' not in (w)\n",
        "# only trigrams that contain 'squaw'\n",
        "finder.apply_ngram_filter(pronoun_filter)\n",
        "# return the 15 n-grams with the highest likelihood ratio\n",
        "finder.nbest(trigram_measures.likelihood_ratio,15)"
      ],
      "execution_count": 0,
      "outputs": [
        {
          "output_type": "execute_result",
          "data": {
            "text/plain": [
              "[('necklace', 'handsome', 'squaw'),\n",
              " ('handsome', 'young', 'squaw'),\n",
              " ('squaw', 'served', 'special'),\n",
              " ('handsome', 'squaw', 'thus'),\n",
              " ('young', 'squaw', 'served'),\n",
              " ('squaw', 'thus', 'change')]"
            ]
          },
          "metadata": {
            "tags": []
          },
          "execution_count": 36
        }
      ]
    },
    {
      "cell_type": "markdown",
      "metadata": {
        "id": "VLNh64AMPhT-",
        "colab_type": "text"
      },
      "source": [
        "The corpus didn't reveal too many results about collocations related to \"squaw\". The results between the bigrams and trigrams are similar. One interesting collocate is \"handsome\", which appears once in bigrams and three times in trigrams."
      ]
    },
    {
      "cell_type": "markdown",
      "metadata": {
        "id": "JCZ3k3BmK9QY",
        "colab_type": "text"
      },
      "source": [
        "### Bigrams and Trigrams for 'chief'"
      ]
    },
    {
      "cell_type": "code",
      "metadata": {
        "id": "fYXcSccbK9QY",
        "colab_type": "code",
        "outputId": "e73a9ebd-48c4-4b59-bdb7-1ff3223fd12b",
        "colab": {}
      },
      "source": [
        "finder = BigramCollocationFinder.from_words(flattened_docs)\n",
        "bigram_measures = nltk.collocations.BigramAssocMeasures() \n",
        "# only bigrams that appear 3+ times\n",
        "finder.apply_freq_filter(3)\n",
        "pronoun_filter = lambda *w: 'chief' not in w\n",
        "# only bigrams that contain 'chief'\n",
        "finder.apply_ngram_filter(pronoun_filter)\n",
        "# return the 15 n-grams with the highest likelihood ratio\n",
        "finder.nbest(bigram_measures.likelihood_ratio,15)"
      ],
      "execution_count": 0,
      "outputs": [
        {
          "output_type": "execute_result",
          "data": {
            "text/plain": [
              "[('chief', 'arose'),\n",
              " ('great', 'chief'),\n",
              " ('principal', 'chief'),\n",
              " ('chief', 'magistrate'),\n",
              " ('pattawatamy', 'chief'),\n",
              " ('commander', 'chief'),\n",
              " ('chippewa', 'chief'),\n",
              " ('tarke', 'chief'),\n",
              " ('chief', 'spoke'),\n",
              " ('delaware', 'chief'),\n",
              " ('chief', 'wyandots'),\n",
              " ('chief', 'clerk'),\n",
              " ('head', 'chief'),\n",
              " ('chief', 'chippewas'),\n",
              " ('miami', 'chief')]"
            ]
          },
          "metadata": {
            "tags": []
          },
          "execution_count": 37
        }
      ]
    },
    {
      "cell_type": "code",
      "metadata": {
        "scrolled": true,
        "id": "Tv1lEc_WK9Qa",
        "colab_type": "code",
        "outputId": "dd148ae3-3afb-4a1e-f39b-d6daea17445e",
        "colab": {}
      },
      "source": [
        "finder = TrigramCollocationFinder.from_words(flattened_docs)\n",
        "trigram_measures = nltk.collocations.TrigramAssocMeasures() \n",
        "\n",
        "# only trigrams that appear 3+ times\n",
        "finder.apply_freq_filter(3)\n",
        "pronoun_filter = lambda *w: 'chief' not in (w)\n",
        "# only trigrams that contain 'chief'\n",
        "finder.apply_ngram_filter(pronoun_filter)\n",
        "# return the 15 n-grams with the highest likelihood ratio\n",
        "finder.nbest(trigram_measures.likelihood_ratio,15)"
      ],
      "execution_count": 0,
      "outputs": [
        {
          "output_type": "execute_result",
          "data": {
            "text/plain": [
              "[('chief', 'united', 'states'),\n",
              " ('chief', 'six', 'nations'),\n",
              " ('chief', 'creek', 'nation'),\n",
              " ('chief', 'cherokee', 'nation'),\n",
              " ('younger', 'brothers', 'chief'),\n",
              " ('chief', 'spoke', 'follows'),\n",
              " ('chief', 'said', 'tribe'),\n",
              " ('chief', 'general', 'washington'),\n",
              " ('chief', 'arose', 'spoke'),\n",
              " ('chief', 'fifteen', 'fires'),\n",
              " ('fifteen', 'fires', 'chief'),\n",
              " ('george', 'graham', 'chief'),\n",
              " ('pattawatamy', 'chief', 'arose'),\n",
              " ('eel', 'river', 'chief'),\n",
              " ('chief', 'eel', 'river')]"
            ]
          },
          "metadata": {
            "tags": []
          },
          "execution_count": 38
        }
      ]
    },
    {
      "cell_type": "markdown",
      "metadata": {
        "id": "SEWCFPR-Q74x",
        "colab_type": "text"
      },
      "source": [
        "\"chief\" is an important position within Native American communities as a leader and speaker, as detailed in the collocation results above.\n",
        "One interesting collocation result to not is the trigram with \"chief\", \"eel\", \"river\" which appears twice in different orders."
      ]
    },
    {
      "cell_type": "markdown",
      "metadata": {
        "id": "WXNLOq2GK9Qe",
        "colab_type": "text"
      },
      "source": [
        "### Bigrams and Trigrams for 'elder'"
      ]
    },
    {
      "cell_type": "code",
      "metadata": {
        "scrolled": true,
        "id": "Z2_-MrSMK9Qf",
        "colab_type": "code",
        "outputId": "5605abc6-453e-443f-e743-1dfaa71fe793",
        "colab": {}
      },
      "source": [
        "finder = BigramCollocationFinder.from_words(flattened_docs)\n",
        "bigram_measures = nltk.collocations.BigramAssocMeasures() \n",
        "# only bigrams that appear 3+ times\n",
        "finder.apply_freq_filter(3)\n",
        "pronoun_filter = lambda *w: 'elder' not in w\n",
        "# only bigrams that contain 'elders'\n",
        "finder.apply_ngram_filter(pronoun_filter)\n",
        "# return the 15 n-grams with the highest likelihood ratio\n",
        "finder.nbest(bigram_measures.likelihood_ratio,15)"
      ],
      "execution_count": 0,
      "outputs": [
        {
          "output_type": "execute_result",
          "data": {
            "text/plain": [
              "[('elder', 'brother'),\n",
              " ('elder', 'brothers'),\n",
              " ('follows', 'elder'),\n",
              " ('belt', 'elder'),\n",
              " ('elder', 'brethren'),\n",
              " ('string', 'elder'),\n",
              " ('said', 'elder'),\n",
              " ('spoke', 'elder'),\n",
              " ('turtle', 'elder'),\n",
              " ('wampums', 'elder'),\n",
              " ('elder', 'churches'),\n",
              " ('elder', 'unacata'),\n",
              " ('happiness', 'elder'),\n",
              " ('thus', 'elder'),\n",
              " ('acknowledgments', 'elder')]"
            ]
          },
          "metadata": {
            "tags": []
          },
          "execution_count": 39
        }
      ]
    },
    {
      "cell_type": "code",
      "metadata": {
        "scrolled": true,
        "id": "Vh02dLjuK9Qh",
        "colab_type": "code",
        "outputId": "c3cb5817-3b4f-4e68-ecb3-b3e5c67982a3",
        "colab": {}
      },
      "source": [
        "finder = TrigramCollocationFinder.from_words(flattened_docs)\n",
        "trigram_measures = nltk.collocations.TrigramAssocMeasures() \n",
        "\n",
        "# only trigrams that appear 3+ times\n",
        "finder.apply_freq_filter(3)\n",
        "pronoun_filter = lambda *w: 'elder' not in (w)\n",
        "# only trigrams that contain 'elder'\n",
        "finder.apply_ngram_filter(pronoun_filter)\n",
        "# return the 15 n-grams with the highest likelihood ratio\n",
        "finder.nbest(trigram_measures.likelihood_ratio,15)"
      ],
      "execution_count": 0,
      "outputs": [
        {
          "output_type": "execute_result",
          "data": {
            "text/plain": [
              "[('follows', 'elder', 'brother'),\n",
              " ('elder', 'brother', 'listen'),\n",
              " ('belt', 'elder', 'brother'),\n",
              " ('spoke', 'elder', 'brother'),\n",
              " ('elder', 'brother', 'see'),\n",
              " ('string', 'elder', 'brother'),\n",
              " ('elder', 'brother', 'told'),\n",
              " ('elder', 'brother', 'heard'),\n",
              " ('elder', 'brother', 'younger'),\n",
              " ('elder', 'brother', 'thank'),\n",
              " ('said', 'elder', 'brother'),\n",
              " ('elder', 'brother', 'fifteen'),\n",
              " ('listen', 'elder', 'brother'),\n",
              " ('elder', 'brother', 'wish'),\n",
              " ('turtle', 'elder', 'brother')]"
            ]
          },
          "metadata": {
            "tags": []
          },
          "execution_count": 40
        }
      ]
    },
    {
      "cell_type": "markdown",
      "metadata": {
        "id": "cy_fm-YYR2eX",
        "colab_type": "text"
      },
      "source": [
        "The term \"elder\" is often associated with male figures, namely \"brother\". Therefore, this signifies that in Native American communities, males often distinguish the hierarchy and level of respect among themselves with age. Other noteworthy collocation terms relate to \"wampums\" and \"string\". Since wampum belts are very important symbols for relationships for Native Americans, these collocations reveal that men are usually the figures who deal with meetings and relationships for their communities."
      ]
    },
    {
      "cell_type": "markdown",
      "metadata": {
        "id": "1c9mJ_aRTRpQ",
        "colab_type": "text"
      },
      "source": [
        "## Explanation/Analysis of Collocation Results\n",
        "\n",
        "To further explain the results from applying collocation analysis on gender-related terms, we observe that generally, bigram and trigram results for the same key terms will result in similar collocation phrases. \n",
        "\n",
        "The terms related to women that we used included \"woman\", \"women'', and \"squaw\". Women were often associated with children, and were typically depicted as \"poor\", \"helpless\", and \"defenceless\". From these collocation results, we determine that women are not explicitly portrayed to have much authority within their Native communities. That is to say, women may play a distinctive role in their communities, but due to the lack of mention of women in this corpus, the results may imply that their roles are less conspicuous compared to their male counterparts. Thus women are painted as more vulnerable and submissive. However, it could be helpful for further investigation to also include even more terms that relate to women to gain a more holistic insight of the results. \n",
        "\n",
        "In contrast, the terms related to males/men that we used included \"man\", \"men\", \"brave\", \"braves\", \"warrior\", and \"chief\". Compared to women, men were usually depicted in a more positive light. Specifically men who were warriors, referred to as Braves, were painted as strong leaders, honorable fighters, and greats within their communities. In addition, men most commonly took on the role as chief to represent and make decisions for their tribes as the \"head\", \"magistrate\", or \"commander\". \n",
        "\n",
        "We also looked at \"elder\" to see if we could determine any distinctions of gender related to age. Interestingly, none of the collocation results for \"elder\" related to women. Instead, most of the terms referred to the familial term \"brother\", verbs like \"listen\", \"spoke\", and \"follow\", and wampum belts.This reveals a few key points about the corpus. Firstly, we must address that this corpus mostly captures experiences and relationships among men. Therefore, women are detracted from these narratives because they are mentioned much less frequently in the documents. Second, from the \"elder\" collocations, we determine that men are the ones who appear at meetings and are the main representatives for their community. They deal in the exchange of wampum belts, which is a very important symbol of relationship legitimacy for Native tribes.\n",
        "\n",
        "Overall, we can conclude with the observations that men are generally more represented in the documents. When women are mentioned, they are usually more discriminated against compared to men, according to our findings in the corpus. Finally, from previous contextual understanding, old age is usually a well-respected sign in native communities, although our results only show patterns of age in relation to men.\n",
        "Some interesting collocations to note: [handsome, squaw];  [eel, river, chief]; [turtle, elder, brother]; [warrior, x, mark]; [unbaptized, woman]. \n",
        "\n"
      ]
    },
    {
      "cell_type": "markdown",
      "metadata": {
        "id": "SrZcbQdEK9Qv",
        "colab_type": "text"
      },
      "source": [
        "## word2vec"
      ]
    },
    {
      "cell_type": "code",
      "metadata": {
        "id": "pK1CZmG6K9Qv",
        "colab_type": "code",
        "colab": {}
      },
      "source": [
        "import gensim \n",
        "from gensim.models import Word2Vec "
      ],
      "execution_count": 0,
      "outputs": []
    },
    {
      "cell_type": "code",
      "metadata": {
        "id": "KL3zDkTqK9Qy",
        "colab_type": "code",
        "colab": {}
      },
      "source": [
        "from nltk import tokenize\n",
        "from nltk.tokenize import word_tokenize \n",
        "import string\n",
        "\n",
        "stop_words = stopwords.words('english')\n",
        "\n",
        "#Read each file into the working directory. \n",
        "vec_sents = []\n",
        "for file in all_files:\n",
        "    with open(file,'r', encoding ='utf8', errors='ignore') as f:\n",
        "        text = f.read()        \n",
        "        sentences = tokenize.sent_tokenize(text)\n",
        "        for sent in sentences:\n",
        "            tokens_again = tokenize.word_tokenize(sent)\n",
        "            tokens_lower = [w.lower() for w in tokens_again]\n",
        "            filtered = [w for w in tokens_lower if not w in stop_words and w.isalpha()] \n",
        "            table = str.maketrans('', '', string.punctuation)\n",
        "            stripped = [w.translate(table) for w in tokens_lower]\n",
        "            stripped = list(filter(None, stripped))\n",
        "            vec_sents.append(stripped)"
      ],
      "execution_count": 0,
      "outputs": []
    },
    {
      "cell_type": "code",
      "metadata": {
        "id": "KcxrSby9K9Q0",
        "colab_type": "code",
        "colab": {}
      },
      "source": [
        "model = Word2Vec(vec_sents,min_count = 1, size = 32)"
      ],
      "execution_count": 0,
      "outputs": []
    },
    {
      "cell_type": "code",
      "metadata": {
        "id": "F9_OH0BGK9Q2",
        "colab_type": "code",
        "outputId": "0aff837b-a70f-4315-8ef6-eb15fff256ae",
        "colab": {}
      },
      "source": [
        "model.wv.most_similar('man')"
      ],
      "execution_count": 0,
      "outputs": [
        {
          "output_type": "execute_result",
          "data": {
            "text/plain": [
              "[('woman', 0.7390420436859131),\n",
              " ('fellow', 0.7281567454338074),\n",
              " ('family', 0.7272722721099854),\n",
              " ('trader', 0.7064768671989441),\n",
              " ('warrior', 0.7016947269439697),\n",
              " ('gentleman', 0.6887140870094299),\n",
              " ('men', 0.6759572625160217),\n",
              " ('child', 0.6679084300994873),\n",
              " ('towns—towns', 0.6585317254066467),\n",
              " ('heart', 0.6583602428436279)]"
            ]
          },
          "metadata": {
            "tags": []
          },
          "execution_count": 50
        }
      ]
    },
    {
      "cell_type": "code",
      "metadata": {
        "id": "3cuNXeq6K9Q4",
        "colab_type": "code",
        "outputId": "0a811626-8c34-4705-cf42-b80f10fd40ae",
        "colab": {}
      },
      "source": [
        "model.wv.most_similar('men')"
      ],
      "execution_count": 0,
      "outputs": [
        {
          "output_type": "execute_result",
          "data": {
            "text/plain": [
              "[('people', 0.7637683153152466),\n",
              " ('fellows', 0.7490093111991882),\n",
              " ('hunters', 0.7430107593536377),\n",
              " ('persons', 0.7335288524627686),\n",
              " ('families', 0.7232502102851868),\n",
              " ('children', 0.6773189902305603),\n",
              " ('man', 0.6759572625160217),\n",
              " ('family', 0.6741276979446411),\n",
              " ('characters', 0.653533399105072),\n",
              " ('warriors', 0.6533045172691345)]"
            ]
          },
          "metadata": {
            "tags": []
          },
          "execution_count": 51
        }
      ]
    },
    {
      "cell_type": "code",
      "metadata": {
        "id": "bDPfMV5GK9Q6",
        "colab_type": "code",
        "outputId": "e5a88b55-aebc-4dab-d2b4-4f57fed35f4e",
        "colab": {}
      },
      "source": [
        "model.wv.most_similar('woman')"
      ],
      "execution_count": 0,
      "outputs": [
        {
          "output_type": "execute_result",
          "data": {
            "text/plain": [
              "[('boy', 0.9130600094795227),\n",
              " ('child', 0.9118497967720032),\n",
              " ('negro', 0.8853565454483032),\n",
              " ('fellow', 0.830824613571167),\n",
              " ('dog', 0.8210537433624268),\n",
              " ('warrior', 0.8172093033790588),\n",
              " ('daughter', 0.8141427040100098),\n",
              " ('halfbreed', 0.813423216342926),\n",
              " ('wounded', 0.8123089075088501),\n",
              " ('wife', 0.80881667137146)]"
            ]
          },
          "metadata": {
            "tags": []
          },
          "execution_count": 52
        }
      ]
    },
    {
      "cell_type": "code",
      "metadata": {
        "id": "FTCin5UuK9Q8",
        "colab_type": "code",
        "outputId": "fd1b3b41-136d-4efc-ce85-5c27ef81e139",
        "colab": {}
      },
      "source": [
        "model.wv.most_similar('women')"
      ],
      "execution_count": 0,
      "outputs": [
        {
          "output_type": "execute_result",
          "data": {
            "text/plain": [
              "[('wives', 0.8752936720848083),\n",
              " ('parents', 0.7385834455490112),\n",
              " ('sisters', 0.7337183356285095),\n",
              " ('young', 0.7255738973617554),\n",
              " ('prdperty', 0.7191779613494873),\n",
              " ('slain', 0.7051762342453003),\n",
              " ('tears', 0.6964426040649414),\n",
              " ('thirsty', 0.693343997001648),\n",
              " ('helpless', 0.6908457279205322),\n",
              " ('boys', 0.6887297630310059)]"
            ]
          },
          "metadata": {
            "tags": []
          },
          "execution_count": 53
        }
      ]
    },
    {
      "cell_type": "code",
      "metadata": {
        "id": "B7rA0yLSK9Q-",
        "colab_type": "code",
        "outputId": "b589254f-35b5-4b6d-b786-d2b8de09b35e",
        "colab": {}
      },
      "source": [
        "model.wv.most_similar('brave')"
      ],
      "execution_count": 0,
      "outputs": [
        {
          "output_type": "execute_result",
          "data": {
            "text/plain": [
              "[('upright', 0.838225245475769),\n",
              " ('incorrigible', 0.8308067917823792),\n",
              " ('honest', 0.8287059664726257),\n",
              " ('perfidious', 0.8184743523597717),\n",
              " ('sober', 0.8137497305870056),\n",
              " ('unprincipled', 0.8113174438476562),\n",
              " ('virtuous', 0.8023703694343567),\n",
              " ('atn', 0.8018024563789368),\n",
              " ('athletic', 0.7982124090194702),\n",
              " ('refined', 0.7942426204681396)]"
            ]
          },
          "metadata": {
            "tags": []
          },
          "execution_count": 54
        }
      ]
    },
    {
      "cell_type": "code",
      "metadata": {
        "id": "a6nnyydBK9RB",
        "colab_type": "code",
        "outputId": "43984ec4-6f19-4ea0-a816-47576781768b",
        "colab": {}
      },
      "source": [
        "model.wv.most_similar('braves')"
      ],
      "execution_count": 0,
      "outputs": [
        {
          "output_type": "execute_result",
          "data": {
            "text/plain": [
              "[('quiqua', 0.8861225843429565),\n",
              " ('careaqui', 0.8804755210876465),\n",
              " ('tomme', 0.8599820733070374),\n",
              " ('mascontin', 0.8595883846282959),\n",
              " ('betwen', 0.8489406704902649),\n",
              " ('cusseta', 0.8489187955856323),\n",
              " ('chamintawaa', 0.8485172986984253),\n",
              " ('hendrick', 0.8472334146499634),\n",
              " ('peckandoghalind', 0.847164511680603),\n",
              " ('chescaqa', 0.8412964344024658)]"
            ]
          },
          "metadata": {
            "tags": []
          },
          "execution_count": 55
        }
      ]
    },
    {
      "cell_type": "code",
      "metadata": {
        "id": "sSGCjwh8K9RE",
        "colab_type": "code",
        "outputId": "f40d1552-dc86-40a9-8d4a-9f91cffde980",
        "colab": {}
      },
      "source": [
        "model.wv.most_similar('warrior')"
      ],
      "execution_count": 0,
      "outputs": [
        {
          "output_type": "execute_result",
          "data": {
            "text/plain": [
              "[('fellow', 0.8822228908538818),\n",
              " ('chief', 0.8345576524734497),\n",
              " ('woman', 0.8172093033790588),\n",
              " ('dog', 0.7885816097259521),\n",
              " ('jacket', 0.7806979417800903),\n",
              " ('child', 0.7593634724617004),\n",
              " ('king', 0.7586615681648254),\n",
              " ('halfbreed', 0.7584855556488037),\n",
              " ('turkey', 0.7554181218147278),\n",
              " ('boy', 0.7531508207321167)]"
            ]
          },
          "metadata": {
            "tags": []
          },
          "execution_count": 56
        }
      ]
    },
    {
      "cell_type": "code",
      "metadata": {
        "id": "DwKRBlsZK9RG",
        "colab_type": "code",
        "outputId": "15fa5966-de0f-477b-e70d-e895516f4848",
        "colab": {}
      },
      "source": [
        "model.wv.most_similar('squaw')"
      ],
      "execution_count": 0,
      "outputs": [
        {
          "output_type": "execute_result",
          "data": {
            "text/plain": [
              "[('calawesa', 0.8990077376365662),\n",
              " ('potewatemy', 0.8880194425582886),\n",
              " ('shell', 0.8796353936195374),\n",
              " ('bottle', 0.8789961338043213),\n",
              " ('shawano', 0.8733044266700745),\n",
              " ('epaulettes', 0.8723028898239136),\n",
              " ('teacher', 0.8715654611587524),\n",
              " ('vines', 0.8699787855148315),\n",
              " ('regina', 0.8664548397064209),\n",
              " ('tory', 0.8655003309249878)]"
            ]
          },
          "metadata": {
            "tags": []
          },
          "execution_count": 57
        }
      ]
    },
    {
      "cell_type": "code",
      "metadata": {
        "id": "KBSviG-yK9RH",
        "colab_type": "code",
        "outputId": "3e3de971-ad0d-4a9e-89f0-978734b3e0ea",
        "colab": {}
      },
      "source": [
        "model.wv.most_similar('squaws')"
      ],
      "execution_count": 0,
      "outputs": [
        {
          "output_type": "execute_result",
          "data": {
            "text/plain": [
              "[('spin', 0.9095147252082825),\n",
              " ('weave', 0.8750308752059937),\n",
              " ('looms', 0.8693294525146484),\n",
              " ('wipers', 0.8548416495323181),\n",
              " ('ploughs', 0.8512943983078003),\n",
              " ('tents', 0.8508956432342529),\n",
              " ('moulds', 0.8452774286270142),\n",
              " ('feed', 0.8438606858253479),\n",
              " ('saddles', 0.841796338558197),\n",
              " ('clothes', 0.8385829925537109)]"
            ]
          },
          "metadata": {
            "tags": []
          },
          "execution_count": 58
        }
      ]
    },
    {
      "cell_type": "code",
      "metadata": {
        "id": "LtumFEjwK9RI",
        "colab_type": "code",
        "outputId": "a1b7c6ab-a8ea-4beb-dafe-d4c23749b869",
        "colab": {}
      },
      "source": [
        "model.wv.most_similar('chief')"
      ],
      "execution_count": 0,
      "outputs": [
        {
          "output_type": "execute_result",
          "data": {
            "text/plain": [
              "[('warrior', 0.8345576524734497),\n",
              " ('name', 0.7708431482315063),\n",
              " ('king', 0.7567043304443359),\n",
              " ('pipe', 0.755321741104126),\n",
              " ('headmen', 0.7442711591720581),\n",
              " ('chiefs', 0.7422805428504944),\n",
              " ('deputation', 0.7113403677940369),\n",
              " ('prophet', 0.705300509929657),\n",
              " ('fellow', 0.6915311217308044),\n",
              " ('cornplanter', 0.6769602298736572)]"
            ]
          },
          "metadata": {
            "tags": []
          },
          "execution_count": 59
        }
      ]
    },
    {
      "cell_type": "code",
      "metadata": {
        "id": "yVGDsUBiK9RK",
        "colab_type": "code",
        "outputId": "03962d5f-7d1a-4251-8b21-954bd1eb0f95",
        "colab": {}
      },
      "source": [
        "model.wv.most_similar('elder')"
      ],
      "execution_count": 0,
      "outputs": [
        {
          "output_type": "execute_result",
          "data": {
            "text/plain": [
              "[('younger', 0.8935723304748535),\n",
              " ('friendsand', 0.8045129776000977),\n",
              " ('uncles', 0.7858362793922424),\n",
              " ('grandfather', 0.7837343215942383),\n",
              " ('brother', 0.7829633951187134),\n",
              " ('brothers', 0.7812263369560242),\n",
              " ('grandfathers', 0.7719814777374268),\n",
              " ('dear', 0.7501953840255737),\n",
              " ('theopportunity', 0.7442000508308411),\n",
              " ('friends', 0.736958384513855)]"
            ]
          },
          "metadata": {
            "tags": []
          },
          "execution_count": 60
        }
      ]
    },
    {
      "cell_type": "code",
      "metadata": {
        "id": "2liPGOElK9RL",
        "colab_type": "code",
        "outputId": "aa2d65fa-7f36-4288-9f4d-b4c92562ce56",
        "colab": {}
      },
      "source": [
        "model.wv.most_similar('elders')"
      ],
      "execution_count": 0,
      "outputs": [
        {
          "output_type": "execute_result",
          "data": {
            "text/plain": [
              "[('d§stoyed', 0.8982945680618286),\n",
              " ('obedt', 0.8895388841629028),\n",
              " ('accusers', 0.8808659315109253),\n",
              " ('attentions', 0.8789100646972656),\n",
              " ('connexions', 0.8786454796791077),\n",
              " ('creatures', 0.8777442574501038),\n",
              " ('virtues', 0.8767448663711548),\n",
              " ('hearers', 0.876370906829834),\n",
              " ('songs', 0.8724061250686646),\n",
              " ('hind', 0.871987521648407)]"
            ]
          },
          "metadata": {
            "tags": []
          },
          "execution_count": 61
        }
      ]
    },
    {
      "cell_type": "code",
      "metadata": {
        "id": "Q-cUojhqK9RM",
        "colab_type": "code",
        "outputId": "b0808e92-4083-4aa7-b993-34a7565d7c2c",
        "colab": {}
      },
      "source": [
        "model.wv.most_similar('young')"
      ],
      "execution_count": 0,
      "outputs": [
        {
          "output_type": "execute_result",
          "data": {
            "text/plain": [
              "[('women', 0.7255738973617554),\n",
              " ('white', 0.7207927703857422),\n",
              " ('foolish', 0.6877471208572388),\n",
              " ('slain', 0.6714249849319458),\n",
              " ('woman', 0.6708270311355591),\n",
              " ('wise', 0.6677833795547485),\n",
              " ('old', 0.6675805449485779),\n",
              " ('killing', 0.6651143431663513),\n",
              " ('beloved', 0.660078227519989),\n",
              " ('population—by', 0.6583060026168823)]"
            ]
          },
          "metadata": {
            "tags": []
          },
          "execution_count": 62
        }
      ]
    },
    {
      "cell_type": "code",
      "metadata": {
        "id": "GPV9BESxK9RN",
        "colab_type": "code",
        "outputId": "7baf0366-cd31-44f7-b35e-878ee24505c5",
        "colab": {}
      },
      "source": [
        "model.wv.most_similar('younger')"
      ],
      "execution_count": 0,
      "outputs": [
        {
          "output_type": "execute_result",
          "data": {
            "text/plain": [
              "[('elder', 0.8935723304748535),\n",
              " ('grandfathers', 0.8021488189697266),\n",
              " ('uncles', 0.7840611338615417),\n",
              " ('nephews', 0.739359974861145),\n",
              " ('brothers', 0.7313927412033081),\n",
              " ('friendsand', 0.7242968082427979),\n",
              " ('fkiends', 0.7188228964805603),\n",
              " ('grandfather', 0.7181746363639832),\n",
              " ('theopportunity', 0.7057209014892578),\n",
              " ('ye', 0.7038096189498901)]"
            ]
          },
          "metadata": {
            "tags": []
          },
          "execution_count": 63
        }
      ]
    },
    {
      "cell_type": "markdown",
      "metadata": {
        "id": "01QzX6J2gvP0",
        "colab_type": "text"
      },
      "source": [
        "# Explanation/Analysis of Word2Vec Results\n",
        "\n",
        "We used the most_similar function under word2vec to find words that appear in similar context as the gender related words of our interest. \n",
        "\n",
        "The terms \"man\" and \"men\" seem to appear in similar contexts as words related to family such as \"woman\", \"women\", \"children\", \"family\". Interestingly, male-related familial terms such as \"brother\" and \"father\" did not appear together. The lack of such words could signify that it was a role of a man to protect their families, especially women and children. In addition, words like \"warrior\", \"trader\", \"hunters\" signify different roles of men in the society. \n",
        "\n",
        "The results between the words \"brave\" and \"braves\" were quite different. The term \"brave\" seems to be related to other adjectives with similiar meaning such as \"upright\" and \"virtuous\" while \"braves\" seems to be most related to Native American tribe names. We think the difference comes from the fact that the word brave can be use as an adjective and a noun while braves can only be used as a noun. When used as a noun, brave means \"a North American Indian warrior.\" It would be interesting to do further research on the names that appear in the result.\n",
        "\n",
        "The terms \"squaw\" and \"squaws\" seem to show different roles that women played in the community. More specifically, \"squaw\" appears in similar context as words like \"epaulettes\", \"shell\", \"vines\", and \"teachers\". The results are more apparent for \"squaws\", where many words are related to making clothes such as \"spin\", \"weave\", \"looms\", \"clothes\". These words signify that making clothes were largely seen as a woman's role in the community. \n",
        "\n",
        "The results for \"elder\" and \"younger\" were similar in that they both appeared in similar context as male-related familial terms. For instance, \"brother\", \"brothers\", \"grandfather\", and \"uncles\" appeared in both of the results. It is intersting that these words appear here, not with \"man\" or \"men\". This could also signify that the corpus does not talk about women of different ages and tend to group them together. \n",
        "\n",
        "In conclusion, we were able to explore different gender roles by doing word2vec analysis.\n"
      ]
    }
  ]
}